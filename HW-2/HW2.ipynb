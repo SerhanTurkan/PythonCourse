{
 "cells": [
  {
   "cell_type": "markdown",
   "metadata": {},
   "source": [
    "## INTL 550 - HW2\n",
    "SERHAN TÜRKAN"
   ]
  },
  {
   "cell_type": "code",
   "execution_count": 1,
   "metadata": {},
   "outputs": [],
   "source": [
    "import pandas as pd\n",
    "import matplotlib.pyplot as plt\n",
    "import seaborn as sns\n",
    "from linear_regression import linear_regression\n",
    "\n",
    "\n",
    "df2015=pd.read_csv('data/2015.csv')\n",
    "df2015['year']=2015\n",
    "\n",
    "df2016=pd.read_csv('data/2016.csv')\n",
    "df2016['year']=2016\n",
    "\n",
    "df2017=pd.read_csv('data/2017.csv')\n",
    "df2017['year']=2017\n",
    "df2017.rename(columns={'Economy..GDP.per.Capita.':'Economy (GDP per Capita)',\\\n",
    "                    'Trust..Government.Corruption.':'Trust (Government Corruption)',\\\n",
    "                    'Happiness.Score':'Happiness Score',\\\n",
    "                    'Health..Life.Expectancy.':'Health (Life Expectancy)','Dystopia.Residual':'Dystopia Residual','Happiness.Rank':'Happiness Rank'}, inplace=True)\n",
    "\n",
    "df2018=pd.read_csv('data/2018.csv')\n",
    "df2018['year']=2018\n",
    "df2018.rename(columns={'Score':'Happiness Score', \\\n",
    "                   'GDP per capita': 'Economy (GDP per Capita)',\\\n",
    "                   'Country or region':'Country',\\\n",
    "                   'Healthy life expectancy':'Health (Life Expectancy)',\\\n",
    "                   'Overall rank':'Happiness Rank',\\\n",
    "                   'Freedom to make life choices':'Freedom',\\\n",
    "                   'Perceptions of corruption':'Trust (Government Corruption)','Social support':'Family'}, inplace=True)\n",
    "\n",
    "df2019=pd.read_csv('data/2019.csv')\n",
    "df2019['year']=2019\n",
    "df2019.rename(columns={'Score':'Happiness Score', \\\n",
    "                   'GDP per capita': 'Economy (GDP per Capita)',\\\n",
    "                   'Country or region':'Country',\\\n",
    "                   'Healthy life expectancy':'Health (Life Expectancy)',\\\n",
    "                   'Overall rank':'Happiness Rank',\\\n",
    "                   'Freedom to make life choices':'Freedom',\\\n",
    "                   'Perceptions of corruption':'Trust (Government Corruption)','Social support':'Family'}, inplace=True)"
   ]
  },
  {
   "cell_type": "code",
   "execution_count": 2,
   "metadata": {},
   "outputs": [
    {
     "data": {
      "text/html": [
       "<div>\n",
       "<style scoped>\n",
       "    .dataframe tbody tr th:only-of-type {\n",
       "        vertical-align: middle;\n",
       "    }\n",
       "\n",
       "    .dataframe tbody tr th {\n",
       "        vertical-align: top;\n",
       "    }\n",
       "\n",
       "    .dataframe thead th {\n",
       "        text-align: right;\n",
       "    }\n",
       "</style>\n",
       "<table border=\"1\" class=\"dataframe\">\n",
       "  <thead>\n",
       "    <tr style=\"text-align: right;\">\n",
       "      <th></th>\n",
       "      <th>Country</th>\n",
       "      <th>Happiness Score</th>\n",
       "      <th>Economy (GDP per Capita)</th>\n",
       "    </tr>\n",
       "  </thead>\n",
       "  <tbody>\n",
       "    <tr>\n",
       "      <th>0</th>\n",
       "      <td>Switzerland</td>\n",
       "      <td>7.587</td>\n",
       "      <td>1.39651</td>\n",
       "    </tr>\n",
       "    <tr>\n",
       "      <th>1</th>\n",
       "      <td>Iceland</td>\n",
       "      <td>7.561</td>\n",
       "      <td>1.30232</td>\n",
       "    </tr>\n",
       "    <tr>\n",
       "      <th>2</th>\n",
       "      <td>Denmark</td>\n",
       "      <td>7.527</td>\n",
       "      <td>1.32548</td>\n",
       "    </tr>\n",
       "    <tr>\n",
       "      <th>3</th>\n",
       "      <td>Norway</td>\n",
       "      <td>7.522</td>\n",
       "      <td>1.45900</td>\n",
       "    </tr>\n",
       "    <tr>\n",
       "      <th>4</th>\n",
       "      <td>Canada</td>\n",
       "      <td>7.427</td>\n",
       "      <td>1.32629</td>\n",
       "    </tr>\n",
       "    <tr>\n",
       "      <th>...</th>\n",
       "      <td>...</td>\n",
       "      <td>...</td>\n",
       "      <td>...</td>\n",
       "    </tr>\n",
       "    <tr>\n",
       "      <th>151</th>\n",
       "      <td>Rwanda</td>\n",
       "      <td>3.334</td>\n",
       "      <td>0.35900</td>\n",
       "    </tr>\n",
       "    <tr>\n",
       "      <th>152</th>\n",
       "      <td>Tanzania</td>\n",
       "      <td>3.231</td>\n",
       "      <td>0.47600</td>\n",
       "    </tr>\n",
       "    <tr>\n",
       "      <th>153</th>\n",
       "      <td>Afghanistan</td>\n",
       "      <td>3.203</td>\n",
       "      <td>0.35000</td>\n",
       "    </tr>\n",
       "    <tr>\n",
       "      <th>154</th>\n",
       "      <td>Central African Republic</td>\n",
       "      <td>3.083</td>\n",
       "      <td>0.02600</td>\n",
       "    </tr>\n",
       "    <tr>\n",
       "      <th>155</th>\n",
       "      <td>South Sudan</td>\n",
       "      <td>2.853</td>\n",
       "      <td>0.30600</td>\n",
       "    </tr>\n",
       "  </tbody>\n",
       "</table>\n",
       "<p>782 rows × 3 columns</p>\n",
       "</div>"
      ],
      "text/plain": [
       "                      Country  Happiness Score  Economy (GDP per Capita)\n",
       "0                 Switzerland            7.587                   1.39651\n",
       "1                     Iceland            7.561                   1.30232\n",
       "2                     Denmark            7.527                   1.32548\n",
       "3                      Norway            7.522                   1.45900\n",
       "4                      Canada            7.427                   1.32629\n",
       "..                        ...              ...                       ...\n",
       "151                    Rwanda            3.334                   0.35900\n",
       "152                  Tanzania            3.231                   0.47600\n",
       "153               Afghanistan            3.203                   0.35000\n",
       "154  Central African Republic            3.083                   0.02600\n",
       "155               South Sudan            2.853                   0.30600\n",
       "\n",
       "[782 rows x 3 columns]"
      ]
     },
     "execution_count": 2,
     "metadata": {},
     "output_type": "execute_result"
    }
   ],
   "source": [
    "data = pd.concat([df2015,df2016,df2017,df2018,df2019],sort=False)\n",
    "data = data[['Country','Happiness Score','Economy (GDP per Capita)']]\n",
    "data"
   ]
  },
  {
   "cell_type": "code",
   "execution_count": 3,
   "metadata": {},
   "outputs": [
    {
     "data": {
      "text/plain": [
       "Country                     0\n",
       "Happiness Score             0\n",
       "Economy (GDP per Capita)    0\n",
       "dtype: int64"
      ]
     },
     "execution_count": 3,
     "metadata": {},
     "output_type": "execute_result"
    }
   ],
   "source": [
    "data.isnull().sum()"
   ]
  },
  {
   "cell_type": "code",
   "execution_count": 4,
   "metadata": {},
   "outputs": [],
   "source": [
    "X = data[['Economy (GDP per Capita)']]\n",
    "y = data['Happiness Score']\n",
    "Beta, std_error, t1, t2, X_processed, y_processed = linear_regression(X,y)"
   ]
  },
  {
   "cell_type": "code",
   "execution_count": 5,
   "metadata": {},
   "outputs": [
    {
     "name": "stdout",
     "output_type": "stream",
     "text": [
      "      B_hat  Standard Error  Lower 95%  Upper 95%\n",
      "0  3.377802        0.061001   3.258057   3.497548\n",
      "1  2.184620        0.060853   2.065164   2.304075\n"
     ]
    }
   ],
   "source": [
    "df = pd.DataFrame(list(zip(Beta, std_error, t1, t2)), \n",
    "               columns =['B_hat', 'Standard Error', 'Lower 95%', 'Upper 95%']) \n",
    "print(df)"
   ]
  },
  {
   "cell_type": "code",
   "execution_count": 6,
   "metadata": {},
   "outputs": [
    {
     "data": {
      "image/png": "[encoded data removed]",
      "text/plain": [
       "<Figure size 432x432 with 3 Axes>"
      ]
     },
     "metadata": {},
     "output_type": "display_data"
    }
   ],
   "source": [
    "plt.style.use(\"seaborn-whitegrid\")\n",
    "sns.jointplot(x=\"Economy (GDP per Capita)\",y=\"Happiness Score\",data=df2015,kind=\"reg\")\n",
    "plt.show()"
   ]
  }
 ],
 "metadata": {
  "kernelspec": {
   "display_name": "Python 3",
   "language": "python",
   "name": "python3"
  },
  "language_info": {
   "codemirror_mode": {
    "name": "ipython",
    "version": 3
   },
   "file_extension": ".py",
   "mimetype": "text/x-python",
   "name": "python",
   "nbconvert_exporter": "python",
   "pygments_lexer": "ipython3",
   "version": "3.8.5"
  }
 },
 "nbformat": 4,
 "nbformat_minor": 4
}
