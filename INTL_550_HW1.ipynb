{
 "cells": [
  {
   "cell_type": "markdown",
   "metadata": {},
   "source": [
    "Serhan TÜRKAN\n",
    "<br>\n",
    "INTL550 HomeWork1"
   ]
  },
  {
   "cell_type": "code",
   "execution_count": 1,
   "metadata": {
    "id": "ISdkRW_1Hsas"
   },
   "outputs": [],
   "source": [
    "import random\n",
    "from datetime import datetime\n",
    "\n",
    "class Portfolio(object):\n",
    "    def __init__(self):\n",
    "        self.cash = 0.00\n",
    "        self.stocks = {}\n",
    "        self.mutualFunds = {}\n",
    "        self.log = {}\n",
    "        self.addLog(\"Portfolio has been created\")\n",
    "        \n",
    "    def __str__(self):\n",
    "        return \"Cash: {}\\nStocks: {}\\nMutual Funds: {}\".format(self.cash, self.stocks, self.mutualFunds)\n",
    "    \n",
    "    def addLog(self, text):\n",
    "        now = datetime.now()\n",
    "        logtime = now.strftime(\"%d/%m/%Y %H:%M:%S\")\n",
    "        #self.log[\"{}\".format(logtime)] = text\n",
    "        self.log[\"{} - {}\".format(len(self.log),logtime)] = text\n",
    "    def history(self):\n",
    "        return self.log\n",
    "    \n",
    "    def addCash(self, amount):\n",
    "        self.cash += amount\n",
    "        self.addLog(\"${} added, Cash Balance: ${}\".format(amount,self.cash))\n",
    "        \n",
    "    def withdrawCash(self, amount):\n",
    "        self.cash -= amount\n",
    "        self.addLog(\"${} withdrawn, Cash Balance: ${}\".format(amount,self.cash))\n",
    "    \n",
    "    def buyMutualFund(self, amount, mf):\n",
    "        cost = amount\n",
    "        if cost > self.cash:\n",
    "            print(\"Insufficient balance - Available: {} / Required: {} \".format(self.cash,cost))\n",
    "        else:\n",
    "            self.cash -= cost\n",
    "            if mf.ticker in self.mutualFunds:\n",
    "                self.mutualFunds[mf.ticker] = (self.mutualFunds[mf.ticker][0] + amount, cost)\n",
    "            else:\n",
    "                self.mutualFunds[mf.ticker] = (amount, cost)\n",
    "            print(\"You bought: {} shares of {} mutual fund. \".format(amount,mf.ticker))\n",
    "            self.addLog(\"Bought {} shares of {} for {} dollars. Cash Balance: ${}\".format(amount,mf.ticker,cost,self.cash))\n",
    "    \n",
    "    def sellMutualFund(self, ticker, amount):\n",
    "        if ticker in self.mutualFunds.keys():\n",
    "            if self.mutualFunds[ticker][0] >= amount:\n",
    "                received = random.uniform(0.9,1.2) * amount * self.mutualFunds[ticker][1]\n",
    "                self.cash += received\n",
    "                self.mutualFunds[ticker] = (self.mutualFunds[ticker][0] - amount, self.mutualFunds[ticker][1])\n",
    "                print(\"You sold: {} shares of {} mutual fund. \".format(amount,ticker))\n",
    "                self.addLog(\"Sold {} shares of {} for {} dollars. Cash Balance: ${}\".format(amount,ticker,received,self.cash))\n",
    "            else: \n",
    "                print(\"You don't have that much funds\")\n",
    "        else:\n",
    "            print(\"Please enter a valid fund ticker.\")          \n",
    "        \n",
    "    def buyStock(self, amount, stock):\n",
    "        cost = stock.price * amount\n",
    "        if cost > self.cash:\n",
    "            print(\"Insufficient balance - Available: {} / Required: {} \".format(self.cash,cost))\n",
    "        else:\n",
    "            self.cash -= cost\n",
    "            if stock.ticker in self.stocks:\n",
    "                presentAmount = self.stocks[stock.ticker][0]\n",
    "                averagedCost = ((presentAmount * self.stocks[stock.ticker][1]) + (amount * stock.price)) / (presentAmount + amount)\n",
    "                self.stocks[stock.ticker] = (self.stocks[stock.ticker][0] + amount, averagedCost)\n",
    "                \n",
    "            else:\n",
    "                self.stocks[stock.ticker] = (amount, stock.price)\n",
    "            print(\"You bought: {} shares of {} stock. \".format(amount,stock.ticker))\n",
    "            self.addLog(\"Bought {} shares of {} for {} dollars. Cash Balance: ${}\".format(amount,stock.ticker,cost,self.cash))\n",
    "            \n",
    "    def sellStock(self, ticker, amount):\n",
    "        if ticker in self.stocks.keys():\n",
    "            if self.stocks[ticker][0] >= amount:\n",
    "                received = random.uniform(0.5,1.5) * amount * self.stocks[ticker][1]\n",
    "                self.cash += received\n",
    "                self.stocks[ticker] = (self.stocks[ticker][0] - amount, self.stocks[ticker][1])\n",
    "                print(\"You sold: {} shares of {} stock. \".format(amount,ticker))\n",
    "                self.addLog(\"Sold {} shares of {} for {} dollars. Cash Balance: ${}\".format(amount,ticker,received,self.cash))\n",
    "            else: #wrong amount\n",
    "                print(\"You don't have that much stock\")\n",
    "        else:\n",
    "            print(\"Please enter a valid stock ticker.\")\n",
    "         \n",
    "class Stock(object):\n",
    "    def __init__(self, price, ticker):\n",
    "        self.price = price\n",
    "        self.ticker = ticker\n",
    "\n",
    "class MutualFund(object):\n",
    "    def __init__(self, ticker):\n",
    "        self.ticker = ticker"
   ]
  },
  {
   "cell_type": "code",
   "execution_count": 2,
   "metadata": {
    "colab": {
     "base_uri": "https://localhost:8080/"
    },
    "id": "aEOCDYAvVktn",
    "outputId": "99516969-d28a-4c41-9197-c208bf6a7738"
   },
   "outputs": [
    {
     "name": "stdout",
     "output_type": "stream",
     "text": [
      "You bought: 5 shares of HFH stock. \n",
      "You bought: 10.3 shares of BRT mutual fund. \n",
      "You bought: 2 shares of GHT mutual fund. \n",
      "Cash: 188.2\n",
      "Stocks: {'HFH': (5, 20)}\n",
      "Mutual Funds: {'BRT': (10.3, 10.3), 'GHT': (2, 2)}\n",
      "You sold: 3 shares of BRT mutual fund. \n",
      "You sold: 1 shares of HFH stock. \n"
     ]
    },
    {
     "data": {
      "text/plain": [
       "{'0 - 07/03/2021 23:42:06': 'Portfolio has been created',\n",
       " '1 - 07/03/2021 23:42:06': '$300.5 added, Cash Balance: $300.5',\n",
       " '2 - 07/03/2021 23:42:06': 'Bought 5 shares of HFH for 100 dollars. Cash Balance: $200.5',\n",
       " '3 - 07/03/2021 23:42:06': 'Bought 10.3 shares of BRT for 10.3 dollars. Cash Balance: $190.2',\n",
       " '4 - 07/03/2021 23:42:06': 'Bought 2 shares of GHT for 2 dollars. Cash Balance: $188.2',\n",
       " '5 - 07/03/2021 23:42:06': 'Sold 3 shares of BRT for 30.91172603152306 dollars. Cash Balance: $219.11172603152306',\n",
       " '6 - 07/03/2021 23:42:06': 'Sold 1 shares of HFH for 23.432704185360798 dollars. Cash Balance: $242.54443021688385',\n",
       " '7 - 07/03/2021 23:42:06': '$50 withdrawn, Cash Balance: $192.54443021688385'}"
      ]
     },
     "execution_count": 2,
     "metadata": {},
     "output_type": "execute_result"
    }
   ],
   "source": [
    "portfolio = Portfolio() #Creates a new portfolio\n",
    "portfolio.addCash(300.50) #Adds cash to the portfolio\n",
    "s = Stock(20, \"HFH\") #Create Stock with price 20 and symbol \"HFH\"\n",
    "portfolio.buyStock(5, s) #Buys 5 shares of stock s\n",
    "mf1 = MutualFund(\"BRT\") #Create MF with symbol \"BRT\"\n",
    "mf2 = MutualFund(\"GHT\") #Create MF with symbol \"GHT\"\n",
    "portfolio.buyMutualFund(10.3, mf1) #Buys 10.3 shares of \"BRT\"\n",
    "portfolio.buyMutualFund(2, mf2) #Buys 2 shares of \"GHT\"\n",
    "print(portfolio) #Prints portfolio\n",
    "#cash: $140.50\n",
    "#stock: 5 HFH\n",
    "#mutual funds: 10.33 BRT\n",
    "# 2 GHT\n",
    "portfolio.sellMutualFund(\"BRT\", 3) #Sells 3 shares of BRT\n",
    "portfolio.sellStock(\"HFH\", 1) #Sells 1 share of HFH\n",
    "portfolio.withdrawCash(50) #Removes $50\n",
    "portfolio.history() #Prints a list of all transactions\n",
    "#ordered by time"
   ]
  }
 ],
 "metadata": {
  "colab": {
   "collapsed_sections": [],
   "name": "INTL 550 - HW1.ipynb",
   "provenance": []
  },
  "kernelspec": {
   "display_name": "Python 3",
   "language": "python",
   "name": "python3"
  },
  "language_info": {
   "codemirror_mode": {
    "name": "ipython",
    "version": 3
   },
   "file_extension": ".py",
   "mimetype": "text/x-python",
   "name": "python",
   "nbconvert_exporter": "python",
   "pygments_lexer": "ipython3",
   "version": "3.8.5"
  }
 },
 "nbformat": 4,
 "nbformat_minor": 1
}
